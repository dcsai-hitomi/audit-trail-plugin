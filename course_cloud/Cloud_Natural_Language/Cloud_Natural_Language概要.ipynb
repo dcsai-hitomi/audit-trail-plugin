{
  "nbformat": 4,
  "nbformat_minor": 0,
  "metadata": {
    "colab": {
      "name": "Cloud Natural Language概要.ipynb",
      "provenance": [],
      "toc_visible": true,
      "authorship_tag": "ABX9TyNTAuX67KsBrXIAKjOXZztl",
      "include_colab_link": true
    },
    "kernelspec": {
      "name": "python3",
      "display_name": "Python 3"
    }
  },
  "cells": [
    {
      "cell_type": "markdown",
      "metadata": {
        "id": "view-in-github",
        "colab_type": "text"
      },
      "source": [
        "<a href=\"https://colab.research.google.com/github/dcsai-hitomi/audit-trail-plugin/blob/master/course_cloud/Cloud_Natural_Language/Cloud_Natural_Language%E6%A6%82%E8%A6%81.ipynb\" target=\"_parent\"><img src=\"https://colab.research.google.com/assets/colab-badge.svg\" alt=\"Open In Colab\"/></a>"
      ]
    },
    {
      "cell_type": "markdown",
      "metadata": {
        "id": "JaMgj5wV9CXO"
      },
      "source": [
        "# [Cloud Natural Language概要](https://cloud.google.com/natural-language?hl=ja)\n",
        "\n",
        "- Googleが提供する自然言語処理サービスの１つ。\n",
        "- ドキュメントやテキストから形態素解析、感情分析、固有名詞等の固有表現抽出を行うことができる。\n",
        "- Natural Language APIとAutoML Natural Language APIの２種類を提供している。\n",
        "\n"
      ]
    },
    {
      "cell_type": "markdown",
      "metadata": {
        "id": "JJt306GCAw7S"
      },
      "source": [
        "## [Natural Language API](https://cloud.google.com/natural-language/docs/basics?hl=ja)\n",
        "\n",
        " 学習済みモデルを使用してAPI経由でコンテンツ分類、エンティティ分析、感情分析を行うことができる。\n"
      ]
    },
    {
      "cell_type": "markdown",
      "metadata": {
        "id": "Jr1wSu7dQHMJ"
      },
      "source": [
        "### 機能\n",
        " - [感情分析(analyzeSentiment)](https://cloud.google.com/natural-language/docs/analyzing-sentiment)\n",
        "  - テキストがポジティブか、ネガティブか、ニュートラルを判定する\n",
        " - [エンティティ分析(analyzeEntities)](https://cloud.google.com/natural-language/docs/analyzing-entities)\n",
        "  - テキスト中に含まれる固有名詞とその固有名詞に関する情報を取得する\n",
        "  - [エンティティの種類](https://cloud.google.com/natural-language/docs/reference/rest/v1/Entity#Type)には、人物、場所、組織、イベント、日付、数値などがあり、種類によってはWikipediaへのリンクも含まれる。\n",
        " - [構造分析(analyzeSyntax)](https://cloud.google.com/natural-language/docs/analyzing-syntax)\n",
        "  - テキストを単語分割し、品詞や依存関係などの情報を取得する\n",
        " - [エンティティ感情分析(analyzeEntitySentiment)](https://cloud.google.com/natural-language/docs/analyzing-entity-sentiment)\n",
        "  - テキストに含まれる単語レベルでの感情分析を行うもの。\n",
        " - [テキスト分類(classifyText)](https://cloud.google.com/natural-language/docs/classifying-text)\n",
        "  - テキストのコンテンツのカテゴリ（単一か複数）を取得する\n",
        "  - [コンテンツのカテゴリ](https://cloud.google.com/natural-language/docs/categories?hl=ja)には、アダルト、芸術、車、美容、本、ビジネス、コンピュータ、金融、食、ゲーム、健康、生活、ニュース、科学、買い物、スポーツ、旅などに分類されます\n",
        "  - 現時点で[サポートされる言語](https://cloud.google.com/natural-language/docs/languages?hl=ja)は英語のみです。"
      ]
    },
    {
      "cell_type": "markdown",
      "metadata": {
        "id": "zo2cDwkPQSQJ"
      },
      "source": [
        "### 実装\n",
        "以下３つの方法で実装することができる。\n",
        "\n",
        "- curlコマンド等でREST APIを直接呼出す方法\n",
        "- gcloudコマンドによるコマンドラインツールから呼出す方法\n",
        "- PythonやJavaScriptなど各種言語に対応したクライアントライブラリを使う方法\n",
        "\n",
        "### その他\n",
        "- 入力テキストの文字コードはデフォルトはUTF-8\n",
        "- 入力テキストは直接入力パラメータに指定する方法とGCSに配置したファイルを指定する方法がある\n",
        "- 入力テキストの言語は指定しなければ、自動判定される\n",
        "- annotateTextメソッドを使うと入力テキストに対して感情分析、エンティティ分析、構造分析、分類の機能を一括して呼び出せる\n",
        "\n",
        "### 参考URL\n",
        "- [実装の基本](https://cloud.google.com/natural-language/docs/basics)\n",
        "- [REST API](https://cloud.google.com/natural-language/docs/reference/rest?hl=ja)\n",
        "- [コマンドライン](https://cloud.google.com/sdk/gcloud/reference/ml/language?hl=ja)\n",
        "- [クライアントライブラリ](https://googleapis.dev/python/language/latest/usage.html)\n",
        "- [Pythonサンプル](https://github.com/googleapis/python-language/tree/master/samples/v1)"
      ]
    },
    {
      "cell_type": "markdown",
      "metadata": {
        "id": "JO3zQ28CIb_A"
      },
      "source": [
        "### [料金](https://cloud.google.com/natural-language/pricing?hl=ja)\n",
        "- リクエストに含まれる文字列のユニット（１０００文字単位）数に応じて課金される\n",
        "- １ヶ月当たり一定ユニットまで無料で呼び出せる"
      ]
    },
    {
      "cell_type": "markdown",
      "metadata": {
        "id": "CS6FG_AeA2U-"
      },
      "source": [
        "## [AutoML Natural Language](https://cloud.google.com/natural-language/automl/docs?hl=ja)\n",
        "\n",
        "カスタムの機械学習モデルを学習、デプロイし、テキスト分類、エンティティ分析、感情分析ができる。\n",
        "\n",
        "デプロイしたモデルは、Natural Language API同様APIを経由で呼び出せる。\n"
      ]
    },
    {
      "cell_type": "markdown",
      "metadata": {
        "id": "aoPXaBF7DEkH"
      },
      "source": [
        "### [機能](https://cloud.google.com/natural-language/automl/docs/features?hl=ja)\n",
        "- テキスト分類\n",
        "- エンティティ抽出\n",
        "- 感情分析\n"
      ]
    },
    {
      "cell_type": "markdown",
      "metadata": {
        "id": "nBeTTS9VOYs8"
      },
      "source": [
        "### [学習データ準備](https://cloud.google.com/natural-language/automl/docs/prepare?hl=ja)\n",
        "- 学習に必要なデータとしてラベル付けされたトレーニングデータが必要(ここが一番大変）\n",
        "- ラベル当たり最低10個のドキュメントが必要。推奨はラベル当たり1,000個のトレーニングデータを用意\n",
        "- 人手によるラベリング作業をGoogleの[AI Platform Data Labeling Service](https://cloud.google.com/data-labeling/docs?hl=ja)を使って依頼することもできる。\n",
        "- デフォルトではトレーニングデータセットをトレーニング用80%、検証用10%、テスト用10%にランダムに分割する。個別に指定する場合は、CSV形式で明示する。\n",
        "- トレーニングデータセットは、CSV形式かZIP形式で準備する\n",
        "  - [CSV形式](https://cloud.google.com/natural-language/automl/docs/prepare?hl=ja#csv)\n",
        "    ```\n",
        "    TRAIN, [GCSファイルパスもしくはテキスト],[ラベル]\n",
        "    VALIDATION, [GCSファイルパスもしくはテキスト],[ラベル]\n",
        "    TEST,[GCSファイルパスもしくはテキスト],[ラベル]\n",
        "    ```\n",
        "  - [ZIP形式](https://cloud.google.com/natural-language/automl/docs/prepare?hl=ja#zip)\n",
        "    ```\n",
        "    xxx.zip\n",
        "    [ラベル]\n",
        "        [PDFファイルもしくはテキストファイル]\n",
        "    [ラベル]\n",
        "        [PDFファイルもしくはテキストファイル]\n",
        "    ```\n",
        "\n"
      ]
    },
    {
      "cell_type": "markdown",
      "metadata": {
        "id": "eOXzvQGnOTc_"
      },
      "source": [
        "### [料金](https://cloud.google.com/natural-language/automl/pricing?hl=ja)\n",
        "- 予測のリクエスト数に応じた料金や学習時間やモデル展開時間に応じた課金が発生する\n",
        "- 予測リクエストが非常に多くなる場合、想定以上の料金が発生するので運用時は注意"
      ]
    },
    {
      "cell_type": "markdown",
      "metadata": {
        "id": "3LRfJzRIAmtF"
      },
      "source": [
        "### 実装"
      ]
    },
    {
      "cell_type": "markdown",
      "metadata": {
        "id": "NiMkWwIS9qjv"
      },
      "source": [
        "# 参考URL\n",
        "- [公式ドキュメント](https://cloud.google.com/natural-language/docs)\n",
        "- [APIリファレンス](https://cloud.google.com/natural-language/docs/apis)\n",
        "- "
      ]
    }
  ]
}